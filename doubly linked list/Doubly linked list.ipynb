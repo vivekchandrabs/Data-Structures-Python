{
 "cells": [
  {
   "cell_type": "code",
   "execution_count": 98,
   "metadata": {},
   "outputs": [],
   "source": [
    "class Node():\n",
    "    next_node = None\n",
    "    \n",
    "    def __init__(self, data):\n",
    "        self.data = data\n",
    "    \n",
    "    def set_next(self, node):\n",
    "        self.next_node = node\n",
    "        \n",
    "    def set_previous(self, node):\n",
    "        self.previous_node = node\n",
    "        \n",
    "    def set_data(self, data):\n",
    "        self.data = data\n",
    "        \n",
    "    def get_data(self):\n",
    "        return self.data\n",
    "    \n",
    "    def get_next_node(self):\n",
    "        return self.next_node\n",
    "    \n",
    "    def get_previous_node(self):\n",
    "        return self.previous_node"
   ]
  },
  {
   "cell_type": "code",
   "execution_count": 104,
   "metadata": {},
   "outputs": [],
   "source": [
    "class doublly_linked_list():\n",
    "    head = None\n",
    "    tail = None\n",
    "    \n",
    "    def append_node(self, data):\n",
    "        new_node = Node(data)\n",
    "        \n",
    "        if self.head is None:\n",
    "            self.head = new_node\n",
    "            self.tail = new_node\n",
    "            \n",
    "        else:\n",
    "            self.tail.set_next(new_node)\n",
    "            new_node.set_previous(self.tail)\n",
    "            self.tail = new_node\n",
    "            \n",
    "    def traverse_list(self):\n",
    "        temp = self.head\n",
    "        \n",
    "        while temp is not None:\n",
    "            print(temp.get_data())\n",
    "            temp = temp.get_next_node()\n",
    "        \n",
    "    def delete_node(self, data):\n",
    "        temp = self.head\n",
    "        \n",
    "        if self.head.get_data() == data:\n",
    "            next_node = self.head.get_next_node()\n",
    "            next_node.set_previous(None)\n",
    "            self.head = next_node\n",
    "            \n",
    "        elif self.tail.get_data() == data:\n",
    "            previous_node = self.tail.get_previous_node()\n",
    "            previous_node.set_next(None)\n",
    "            self.tail = previous_node\n",
    "            \n",
    "        else:        \n",
    "            while temp.get_data() != data:\n",
    "                temp = temp.get_next_node()\n",
    "\n",
    "            next_node = temp.get_next_node()\n",
    "            previous_node = temp.get_previous_node()\n",
    "\n",
    "            previous_node.set_next(next_node)\n",
    "            next_node.set_previous(previous_node)\n",
    "        \n",
    "        "
   ]
  },
  {
   "cell_type": "code",
   "execution_count": 105,
   "metadata": {},
   "outputs": [],
   "source": [
    "linked_list = doublly_linked_list()"
   ]
  },
  {
   "cell_type": "code",
   "execution_count": 106,
   "metadata": {},
   "outputs": [],
   "source": [
    "linked_list.append_node(\"first\")\n",
    "linked_list.append_node(\"second\")\n",
    "linked_list.append_node(\"third\")"
   ]
  },
  {
   "cell_type": "code",
   "execution_count": 107,
   "metadata": {},
   "outputs": [
    {
     "name": "stdout",
     "output_type": "stream",
     "text": [
      "first\n",
      "second\n",
      "third\n"
     ]
    }
   ],
   "source": [
    "linked_list.traverse_list()"
   ]
  },
  {
   "cell_type": "code",
   "execution_count": 108,
   "metadata": {},
   "outputs": [],
   "source": [
    "linked_list.delete_node(\"second\")"
   ]
  },
  {
   "cell_type": "code",
   "execution_count": 109,
   "metadata": {},
   "outputs": [
    {
     "name": "stdout",
     "output_type": "stream",
     "text": [
      "first\n",
      "third\n"
     ]
    }
   ],
   "source": [
    "linked_list.traverse_list()"
   ]
  },
  {
   "cell_type": "code",
   "execution_count": null,
   "metadata": {},
   "outputs": [],
   "source": []
  }
 ],
 "metadata": {
  "kernelspec": {
   "display_name": "Python 3",
   "language": "python",
   "name": "python3"
  },
  "language_info": {
   "codemirror_mode": {
    "name": "ipython",
    "version": 3
   },
   "file_extension": ".py",
   "mimetype": "text/x-python",
   "name": "python",
   "nbconvert_exporter": "python",
   "pygments_lexer": "ipython3",
   "version": "3.6.3"
  }
 },
 "nbformat": 4,
 "nbformat_minor": 2
}
