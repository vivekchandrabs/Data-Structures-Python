{
 "cells": [
  {
   "cell_type": "code",
   "execution_count": 28,
   "metadata": {},
   "outputs": [],
   "source": [
    "class Node():\n",
    "    next_node = None\n",
    "    previous_node = None\n",
    "    \n",
    "    def __init__(self, data):\n",
    "        self.data = data\n",
    "    \n",
    "    def set_next(self, node):\n",
    "        self.next_node = node\n",
    "        \n",
    "    def set_previous(self, node):\n",
    "        self.previous_node = node\n",
    "        \n",
    "    def set_data(self, data):\n",
    "        self.data = data\n",
    "        \n",
    "    def get_data(self):\n",
    "        return self.data\n",
    "    \n",
    "    def get_next_node(self):\n",
    "        return self.next_node\n",
    "    \n",
    "    def get_previous_node(self):\n",
    "        return self.previous_node"
   ]
  },
  {
   "cell_type": "code",
   "execution_count": 186,
   "metadata": {},
   "outputs": [],
   "source": [
    "class doublly_linked_list():\n",
    "    head = None\n",
    "    tail = None\n",
    "    \n",
    "    def append_node(self, data):\n",
    "        new_node = Node(data)\n",
    "        \n",
    "        if self.head is None:\n",
    "            self.head = new_node\n",
    "            self.tail = new_node\n",
    "            \n",
    "        else:\n",
    "            self.tail.set_next(new_node)\n",
    "            new_node.set_previous(self.tail)\n",
    "            self.tail = new_node\n",
    "            \n",
    "    def traverse_list(self):\n",
    "        temp = self.head\n",
    "        \n",
    "        while temp is not None:\n",
    "            print(temp.get_data())\n",
    "            temp = temp.get_next_node()\n",
    "        \n",
    "    def delete_node(self, data):\n",
    "        temp = self.head\n",
    "        \n",
    "        if self.head.get_data() == data:\n",
    "            next_node = self.head.get_next_node()\n",
    "            next_node.set_previous(None)\n",
    "            self.head = next_node\n",
    "            \n",
    "        elif self.tail.get_data() == data:\n",
    "            previous_node = self.tail.get_previous_node()\n",
    "            previous_node.set_next(None)\n",
    "            self.tail = previous_node\n",
    "            \n",
    "        else:        \n",
    "            while temp.get_data() != data:\n",
    "                temp = temp.get_next_node()\n",
    "\n",
    "            next_node = temp.get_next_node()\n",
    "            previous_node = temp.get_previous_node()\n",
    "\n",
    "            previous_node.set_next(next_node)\n",
    "            next_node.set_previous(previous_node)\n",
    "    \n",
    "    def delete_linked_list(self):\n",
    "        temp = self.head\n",
    "        \n",
    "        while temp is not None:\n",
    "            temp.set_next(None)\n",
    "            temp.set_previous(None)\n",
    "            temp = temp.get_next_node()\n",
    "            \n",
    "        self.head = None\n",
    "        self.tail = None\n",
    "    \n",
    "    def reverse_linked_list(self):\n",
    "        current_node = self.head\n",
    "        \n",
    "        while current_node is not None:\n",
    "            temp = current_node.get_next_node()\n",
    "            current_node.set_next(current_node.get_previous_node())\n",
    "            current_node.set_previous(temp)\n",
    "            \n",
    "            current_node = current_node.get_previous_node()\n",
    "\n",
    "        temp = self.head\n",
    "        self.head = self.tail\n",
    "        self.tail = temp\n",
    "        \n",
    "    def insert_last(self, data):\n",
    "        new_node = Node(data)\n",
    "        \n",
    "        self.tail.set_next(new_node)\n",
    "        new_node.set_previous(self.tail)\n",
    "        self.tail = new_node\n",
    "        \n",
    "    def delete_last(self):\n",
    "        temp = self.tail.get_previous_node()\n",
    "        \n",
    "        temp.set_next(None)\n",
    "        self.tail.set_previous(None)\n",
    "        \n",
    "        self.tail = temp\n",
    "        \n",
    "    def insert_after(self, new_data, old_data):\n",
    "        new_node = Node(new_data)\n",
    "        temp = self.head\n",
    "        \n",
    "        while (temp is not None) and (temp.get_data() != old_data):\n",
    "            temp = temp.get_next_node()\n",
    "            \n",
    "        if temp is not None:\n",
    "            next_node = temp.get_next_node()\n",
    "\n",
    "            new_node.set_next(next_node)\n",
    "            new_node.set_previous(temp)\n",
    "\n",
    "            temp.set_next(new_node)\n",
    "            \n",
    "            if next_node is not None:\n",
    "                next_node.set_previous(new_node)\n",
    "    \n",
    "    def display_backward(self):\n",
    "        temp = self.tail\n",
    "    \n",
    "        while temp is not None:\n",
    "            print(temp.get_data())\n",
    "            temp = temp.get_previous_node()\n",
    "            \n",
    "        \n",
    "        "
   ]
  },
  {
   "cell_type": "code",
   "execution_count": 187,
   "metadata": {},
   "outputs": [],
   "source": [
    "linked_list = doublly_linked_list()"
   ]
  },
  {
   "cell_type": "code",
   "execution_count": 188,
   "metadata": {},
   "outputs": [],
   "source": [
    "linked_list.append_node(\"first\")\n",
    "linked_list.append_node(\"second\")\n",
    "linked_list.append_node(\"third\")"
   ]
  },
  {
   "cell_type": "code",
   "execution_count": 189,
   "metadata": {},
   "outputs": [
    {
     "name": "stdout",
     "output_type": "stream",
     "text": [
      "first\n",
      "second\n",
      "third\n"
     ]
    }
   ],
   "source": [
    "linked_list.traverse_list()"
   ]
  },
  {
   "cell_type": "code",
   "execution_count": 110,
   "metadata": {},
   "outputs": [],
   "source": [
    "linked_list.delete_node(\"second\")"
   ]
  },
  {
   "cell_type": "code",
   "execution_count": 7,
   "metadata": {},
   "outputs": [
    {
     "name": "stdout",
     "output_type": "stream",
     "text": [
      "first\n",
      "third\n"
     ]
    }
   ],
   "source": [
    "linked_list.traverse_list()"
   ]
  },
  {
   "cell_type": "code",
   "execution_count": 8,
   "metadata": {},
   "outputs": [],
   "source": [
    "linked_list.delete_linked_list()"
   ]
  },
  {
   "cell_type": "code",
   "execution_count": 9,
   "metadata": {},
   "outputs": [],
   "source": [
    "linked_list.traverse_list()"
   ]
  },
  {
   "cell_type": "code",
   "execution_count": 144,
   "metadata": {},
   "outputs": [],
   "source": [
    "linked_list.reverse_linked_list()"
   ]
  },
  {
   "cell_type": "code",
   "execution_count": 152,
   "metadata": {},
   "outputs": [
    {
     "name": "stdout",
     "output_type": "stream",
     "text": [
      "first\n",
      "second\n"
     ]
    }
   ],
   "source": [
    "linked_list.traverse_list()"
   ]
  },
  {
   "cell_type": "code",
   "execution_count": 156,
   "metadata": {},
   "outputs": [],
   "source": [
    "linked_list.insert_last(\"fourth\")"
   ]
  },
  {
   "cell_type": "code",
   "execution_count": 157,
   "metadata": {},
   "outputs": [
    {
     "name": "stdout",
     "output_type": "stream",
     "text": [
      "first\n",
      "second\n",
      "third\n",
      "fourth\n"
     ]
    }
   ],
   "source": [
    "linked_list.traverse_list()"
   ]
  },
  {
   "cell_type": "code",
   "execution_count": 158,
   "metadata": {},
   "outputs": [],
   "source": [
    "linked_list.delete_last()"
   ]
  },
  {
   "cell_type": "code",
   "execution_count": 159,
   "metadata": {},
   "outputs": [
    {
     "name": "stdout",
     "output_type": "stream",
     "text": [
      "first\n",
      "second\n",
      "third\n"
     ]
    }
   ],
   "source": [
    "linked_list.traverse_list()"
   ]
  },
  {
   "cell_type": "code",
   "execution_count": 184,
   "metadata": {},
   "outputs": [],
   "source": [
    "linked_list.insert_after(\"temp\",\"second\")"
   ]
  },
  {
   "cell_type": "code",
   "execution_count": 185,
   "metadata": {},
   "outputs": [
    {
     "name": "stdout",
     "output_type": "stream",
     "text": [
      "first\n",
      "second\n",
      "temp\n",
      "third\n",
      "temp\n"
     ]
    }
   ],
   "source": [
    "linked_list.traverse_list()"
   ]
  },
  {
   "cell_type": "code",
   "execution_count": 190,
   "metadata": {},
   "outputs": [
    {
     "name": "stdout",
     "output_type": "stream",
     "text": [
      "third\n"
     ]
    },
    {
     "ename": "AttributeError",
     "evalue": "'Node' object has no attribute 'get_previous'",
     "output_type": "error",
     "traceback": [
      "\u001b[1;31m---------------------------------------------------------------------------\u001b[0m",
      "\u001b[1;31mAttributeError\u001b[0m                            Traceback (most recent call last)",
      "\u001b[1;32m<ipython-input-190-229c7b355893>\u001b[0m in \u001b[0;36m<module>\u001b[1;34m\u001b[0m\n\u001b[1;32m----> 1\u001b[1;33m \u001b[0mlinked_list\u001b[0m\u001b[1;33m.\u001b[0m\u001b[0mdisplay_backward\u001b[0m\u001b[1;33m(\u001b[0m\u001b[1;33m)\u001b[0m\u001b[1;33m\u001b[0m\u001b[0m\n\u001b[0m",
      "\u001b[1;32m<ipython-input-186-b871447356ec>\u001b[0m in \u001b[0;36mdisplay_backward\u001b[1;34m(self)\u001b[0m\n\u001b[0;32m    108\u001b[0m         \u001b[1;32mwhile\u001b[0m \u001b[0mtemp\u001b[0m \u001b[1;32mis\u001b[0m \u001b[1;32mnot\u001b[0m \u001b[1;32mNone\u001b[0m\u001b[1;33m:\u001b[0m\u001b[1;33m\u001b[0m\u001b[0m\n\u001b[0;32m    109\u001b[0m             \u001b[0mprint\u001b[0m\u001b[1;33m(\u001b[0m\u001b[0mtemp\u001b[0m\u001b[1;33m.\u001b[0m\u001b[0mget_data\u001b[0m\u001b[1;33m(\u001b[0m\u001b[1;33m)\u001b[0m\u001b[1;33m)\u001b[0m\u001b[1;33m\u001b[0m\u001b[0m\n\u001b[1;32m--> 110\u001b[1;33m             \u001b[0mtemp\u001b[0m \u001b[1;33m=\u001b[0m \u001b[0mtemp\u001b[0m\u001b[1;33m.\u001b[0m\u001b[0mget_previous\u001b[0m\u001b[1;33m(\u001b[0m\u001b[1;33m)\u001b[0m\u001b[1;33m\u001b[0m\u001b[0m\n\u001b[0m\u001b[0;32m    111\u001b[0m \u001b[1;33m\u001b[0m\u001b[0m\n\u001b[0;32m    112\u001b[0m \u001b[1;33m\u001b[0m\u001b[0m\n",
      "\u001b[1;31mAttributeError\u001b[0m: 'Node' object has no attribute 'get_previous'"
     ]
    }
   ],
   "source": [
    "linked_list.display_backward()"
   ]
  },
  {
   "cell_type": "code",
   "execution_count": null,
   "metadata": {},
   "outputs": [],
   "source": []
  }
 ],
 "metadata": {
  "kernelspec": {
   "display_name": "Python 3",
   "language": "python",
   "name": "python3"
  },
  "language_info": {
   "codemirror_mode": {
    "name": "ipython",
    "version": 3
   },
   "file_extension": ".py",
   "mimetype": "text/x-python",
   "name": "python",
   "nbconvert_exporter": "python",
   "pygments_lexer": "ipython3",
   "version": "3.6.3"
  }
 },
 "nbformat": 4,
 "nbformat_minor": 2
}
