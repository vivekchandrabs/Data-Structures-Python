{
 "cells": [
  {
   "cell_type": "code",
   "execution_count": 9,
   "metadata": {},
   "outputs": [],
   "source": [
    "class Node():\n",
    "    def __init__(self, data):\n",
    "        self.data = data\n",
    "        self.next_node = None\n",
    "\n",
    "    def get_next_node(self):\n",
    "        return self.next_node\n",
    "    \n",
    "    def get_data(self):\n",
    "        return self.data\n",
    "    \n",
    "    def set_next(self, node):\n",
    "        self.next_node = node\n",
    "    "
   ]
  },
  {
   "cell_type": "code",
   "execution_count": 10,
   "metadata": {},
   "outputs": [],
   "source": [
    "class Linked_list():\n",
    "    head = None\n",
    "    \n",
    "    def append_node(self, data):\n",
    "        new_node = Node(data)\n",
    "        temp = self.head\n",
    "        \n",
    "        if self.head is None:\n",
    "            self.head = new_node\n",
    "        \n",
    "        else:        \n",
    "            while temp.get_next_node() is not None:\n",
    "                temp = temp.get_next_node()\n",
    "                \n",
    "            temp.set_next(new_node)        \n",
    "        return        \n",
    "    \n",
    "    def traverse_linked_list(self):\n",
    "        temp = self.head\n",
    "        \n",
    "        if self.head.get_next_node() is None:\n",
    "            print(self.head.get_data())\n",
    "        \n",
    "        else:            \n",
    "            while temp.get_next_node() is not None:\n",
    "                print(temp.get_data())\n",
    "                temp = temp.get_next_node()\n",
    "\n",
    "            print(temp.get_data())\n",
    "            \n",
    "        return\n",
    "        \n",
    "        "
   ]
  },
  {
   "cell_type": "code",
   "execution_count": 11,
   "metadata": {},
   "outputs": [],
   "source": [
    "new_linked_list = Linked_list()\n"
   ]
  },
  {
   "cell_type": "code",
   "execution_count": 12,
   "metadata": {},
   "outputs": [],
   "source": [
    "new_linked_list.append_node(\"first\")"
   ]
  },
  {
   "cell_type": "code",
   "execution_count": 13,
   "metadata": {},
   "outputs": [],
   "source": [
    "new_linked_list.append_node(\"second\")\n"
   ]
  },
  {
   "cell_type": "code",
   "execution_count": 14,
   "metadata": {},
   "outputs": [],
   "source": [
    "new_linked_list.append_node(\"third\")"
   ]
  },
  {
   "cell_type": "code",
   "execution_count": 15,
   "metadata": {},
   "outputs": [
    {
     "name": "stdout",
     "output_type": "stream",
     "text": [
      "first\n",
      "second\n",
      "third\n"
     ]
    }
   ],
   "source": [
    "new_linked_list.traverse_linked_list()"
   ]
  },
  {
   "cell_type": "code",
   "execution_count": null,
   "metadata": {},
   "outputs": [],
   "source": []
  }
 ],
 "metadata": {
  "kernelspec": {
   "display_name": "Python 3",
   "language": "python",
   "name": "python3"
  },
  "language_info": {
   "codemirror_mode": {
    "name": "ipython",
    "version": 3
   },
   "file_extension": ".py",
   "mimetype": "text/x-python",
   "name": "python",
   "nbconvert_exporter": "python",
   "pygments_lexer": "ipython3",
   "version": "3.6.3"
  }
 },
 "nbformat": 4,
 "nbformat_minor": 2
}
